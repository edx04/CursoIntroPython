{
  "cells": [
    {
      "cell_type": "markdown",
      "metadata": {
        "id": "Z6b4ocIxmQ1R"
      },
      "source": [
        "# Ejercicio1: Crear y usar listas de Python\n"
      ]
    },
    {
      "cell_type": "markdown",
      "metadata": {
        "id": "YxpxDw3bmQ1W"
      },
      "source": [
        "### Ejercicio: Usar listas para almacenar nombres de planetas\n",
        "Las listas permiten almacenar varios valores en una sola variable. Comenzarás un proyecto sobre información planetaria creando una lista de planetas.\n",
        "\n",
        "> **TIP**\n",
        "> Dedica unos minutos para tratar de encontrar una solución. Luego desplázate hacia abajo hasta la parte inferior para ver si has logrado compilar el programa de acuerdo con las especificaciones"
      ]
    },
    {
      "cell_type": "markdown",
      "metadata": {
        "id": "XqXk-WQBmQ1Y"
      },
      "source": [
        "En primer lugar, crea una variable denominada `planets`. Agrega los ocho planetas (sin Plutón) a la lista. A continuación, muestra el número de planetas."
      ]
    },
    {
      "cell_type": "code",
      "execution_count": 1,
      "metadata": {
        "id": "6rDrxHeSmQ1a",
        "colab": {
          "base_uri": "https://localhost:8080/"
        },
        "outputId": "f7090036-7853-4edf-ccc2-2285df981c88"
      },
      "outputs": [
        {
          "output_type": "stream",
          "name": "stdout",
          "text": [
            "Number of planets 8\n"
          ]
        }
      ],
      "source": [
        "# Creamos la lista planets y la mostramos\n",
        "planets = ['Mercury', 'Venus', 'Earth', 'Mars', 'Jupiter', 'Saturn', 'Uranus', 'Neptune']\n",
        "\n",
        "print('Number of planets', len(planets))"
      ]
    },
    {
      "cell_type": "markdown",
      "metadata": {
        "id": "cCJw8FClmQ1c"
      },
      "source": [
        "Agrega a Plutón a la lista que creaste. Luego muestra tanto el número de planetas como el último planeta de la lista."
      ]
    },
    {
      "cell_type": "code",
      "execution_count": 2,
      "metadata": {
        "id": "mldqwtmlmQ1d",
        "colab": {
          "base_uri": "https://localhost:8080/"
        },
        "outputId": "e807a82b-9af4-4c83-fc19-b2842770f050"
      },
      "outputs": [
        {
          "output_type": "stream",
          "name": "stdout",
          "text": [
            "Pluto\n"
          ]
        }
      ],
      "source": [
        "# Agregamos a plutón y mostramos el último elemento\n",
        "planets.append('Pluto')\n",
        "print(planets[-1])"
      ]
    },
    {
      "cell_type": "markdown",
      "metadata": {
        "id": "G3q23KPRmQ1f"
      },
      "source": [
        "> Recuerda: Lo importante es intentarlo, puedes auxiliarte de internet, libros, etc. El objetivo de una kata es la comprobación de la comprensión de la lección y su aplicación inmediata a la resolución de problemas. Go for it!"
      ]
    },
    {
      "cell_type": "markdown",
      "metadata": {
        "id": "jPUgZRk7mQ1f"
      },
      "source": [
        "## Ejercicio 2: Trabajando con datos de una lista\n",
        "\n",
        "### Usar slices para recuperar partes de una lista"
      ]
    },
    {
      "cell_type": "markdown",
      "metadata": {
        "id": "gbhLHZPUmQ1g"
      },
      "source": [
        "Es posible que debas trabajar con diferentes secciones de una lista. En nuestro ejemplo, queremos mostrar planetas más cerca y más lejos del sol de un planeta que el usuario ingresa por teclado.\n",
        "\n",
        "Comienza agregando el código para crear una lista con los planetas."
      ]
    },
    {
      "cell_type": "code",
      "execution_count": 3,
      "metadata": {
        "id": "GtKeNkFGmQ1j"
      },
      "outputs": [],
      "source": [
        "# Lista de planetas\n",
        "planets = ['Mercury', 'Venus', 'Earth', 'Mars', 'Jupiter', 'Saturn', 'Neptune']"
      ]
    },
    {
      "cell_type": "markdown",
      "metadata": {
        "id": "3k_t-c4OmQ1l"
      },
      "source": [
        "### Solicita al usuario el nombre de un planeta\n",
        "\n",
        "A continuación, agrega el código para solicitar al usuario un nombre. Debido a que las cadenas distinguen entre mayúsculas y minúsculas en Python, pídale al usuario que use una letra mayúscula para comenzar el nombre del planeta."
      ]
    },
    {
      "cell_type": "code",
      "execution_count": 6,
      "metadata": {
        "id": "5_fI5d02mQ1o",
        "colab": {
          "base_uri": "https://localhost:8080/"
        },
        "outputId": "03fe6444-6476-454c-92b9-d888fe100ee7"
      },
      "outputs": [
        {
          "name": "stdout",
          "output_type": "stream",
          "text": [
            "ingresa el nombre de un planeta con al primera letra en mayuscula : Mars\n"
          ]
        }
      ],
      "source": [
        "# Solicitamos el nombre de un planeta *Pista:  input()*\n",
        "name_planet = input('ingresa el nombre de un planeta con al primera letra en mayuscula : ')"
      ]
    },
    {
      "cell_type": "markdown",
      "metadata": {
        "id": "BKukAIq0mQ1o"
      },
      "source": [
        "### Encuentra el planeta en la lista\n",
        "Para determinar qué planetas están más cerca que el que ingresó el usuario, debes encontrar dónde está el planeta en la lista. Puedes utilizar `index` para realizar esta operación. Agrega el código para encontrar el índice del planeta."
      ]
    },
    {
      "cell_type": "code",
      "execution_count": 7,
      "metadata": {
        "id": "ZrndnpeimQ1p"
      },
      "outputs": [],
      "source": [
        "# Busca el planeta en la lista\n",
        "planet_index = planets.index(name_planet)"
      ]
    },
    {
      "cell_type": "markdown",
      "metadata": {
        "id": "bzUlMKGZmQ1q"
      },
      "source": [
        "### Mostrar planetas más cercanos al sol que el que el usuario ingresó\n",
        "\n",
        "Con el índice determinado, ahora puedes agregar el código para mostrar los planetas más cercanos al sol."
      ]
    },
    {
      "cell_type": "code",
      "execution_count": 8,
      "metadata": {
        "id": "KF521RbVmQ1r",
        "colab": {
          "base_uri": "https://localhost:8080/"
        },
        "outputId": "237d1566-4a96-4a63-a786-06dba28b897e"
      },
      "outputs": [
        {
          "output_type": "stream",
          "name": "stdout",
          "text": [
            "['Mercury', 'Venus', 'Earth']\n"
          ]
        }
      ],
      "source": [
        "# Muestra los planetas más cercanos al sol\n",
        "print(planets[0:planet_index])"
      ]
    },
    {
      "cell_type": "markdown",
      "metadata": {
        "id": "ktXFZ8oCmQ1r"
      },
      "source": [
        "# Mostrar planetas más alejados del sol que el que el usuario ingresó\n",
        "\n",
        "Puedes usar el mismo índice para mostrar planetas más alejados del sol. Sin embargo, recuerda que el índice inicial se incluye cuando usas un slice. Como resultado, tendrás que agregar 1 al valor. Agrega el código para mostrar los planetas más alejados del sol."
      ]
    },
    {
      "cell_type": "code",
      "execution_count": 9,
      "metadata": {
        "id": "Cwux86X5mQ1s",
        "colab": {
          "base_uri": "https://localhost:8080/"
        },
        "outputId": "349ddc6f-25c1-4199-bbed-824063cf6b02"
      },
      "outputs": [
        {
          "output_type": "stream",
          "name": "stdout",
          "text": [
            "['Jupiter', 'Saturn', 'Neptune']\n"
          ]
        }
      ],
      "source": [
        "# Muestra los planetas más lejanos al sol\n",
        "print(planets[planet_index + 1:])"
      ]
    },
    {
      "cell_type": "markdown",
      "metadata": {
        "id": "jrvLyn31mQ1s"
      },
      "source": [
        "## Soluciones"
      ]
    },
    {
      "cell_type": "markdown",
      "metadata": {
        "id": "yZiMkj83mQ1t"
      },
      "source": [
        "### Ejercicio 1"
      ]
    },
    {
      "cell_type": "code",
      "execution_count": null,
      "metadata": {
        "id": "BLbLHrpkmQ1u"
      },
      "outputs": [],
      "source": [
        "# Creamos la lista planets y la mostramos\n",
        "\n",
        "planets = ['Mercury', 'Venus', 'Earth', 'Mars', 'Jupiter', 'Saturn', 'Uranus', 'Neptune']\n",
        "\n",
        "print('There are', len(planets), 'planets')"
      ]
    },
    {
      "cell_type": "code",
      "execution_count": null,
      "metadata": {
        "id": "e7F37nJ1mQ1v"
      },
      "outputs": [],
      "source": [
        "# Agregamos a plutón y mostramos el último elemento\n",
        "\n",
        "planets.append('Pluto')\n",
        "\n",
        "print(planets[-1], 'is the last planet')"
      ]
    },
    {
      "cell_type": "markdown",
      "metadata": {
        "id": "I1pLbmLImQ1v"
      },
      "source": [
        "## Ejercicio 2"
      ]
    },
    {
      "cell_type": "code",
      "execution_count": null,
      "metadata": {
        "id": "54Wbx2qBmQ1w"
      },
      "outputs": [],
      "source": [
        "# Lista de planetas\n",
        "\n",
        "planets = ['Mercury', 'Venus', 'Earth', 'Mars', 'Jupiter', 'Saturn', 'Neptune']"
      ]
    },
    {
      "cell_type": "code",
      "execution_count": null,
      "metadata": {
        "id": "DQ_0mGpLmQ1w"
      },
      "outputs": [],
      "source": [
        "# Solicitamos el nombre de un planeta *Pista:  input()*\n",
        "user_planet = input('Please enter the name of the planet (with a capital letter to start)')"
      ]
    },
    {
      "cell_type": "code",
      "execution_count": null,
      "metadata": {
        "id": "n8DkldSOmQ1y"
      },
      "outputs": [],
      "source": [
        "# Busca el planeta en la lista\n",
        "\n",
        "planet_index = planets.index(user_planet)"
      ]
    },
    {
      "cell_type": "code",
      "execution_count": null,
      "metadata": {
        "id": "ZyptjX2BmQ1z"
      },
      "outputs": [],
      "source": [
        "# Muestra los planetas más cercanos al sol\n",
        "\n",
        "print('Here are the planets closer than ' + user_planet)\n",
        "print(planets[0:planet_index])"
      ]
    },
    {
      "cell_type": "code",
      "execution_count": null,
      "metadata": {
        "id": "ujY29_BamQ10"
      },
      "outputs": [],
      "source": [
        "# Muestra los planetas más lejanos al sol\n",
        "\n",
        "print('Here are the planets further than ' + user_planet)\n",
        "print(planets[planet_index + 1:])"
      ]
    },
    {
      "cell_type": "markdown",
      "metadata": {
        "id": "Nb1Ja1JImQ11"
      },
      "source": [
        "Curso Propedútico de Python para Launch X - Innovacción Virtual.\n",
        "\n",
        "Material desarrollado con base en los contenidos de MSLearn y la metáfora de LaunchX, traducción e implementación por: Fernanda Ochoa - Learning Producer de LaunchX.\n",
        "\n",
        "Redes:\n",
        "* GitHub: [FernandaOchoa](https://github.com/FernandaOchoa)\n",
        "* Twitter: [@imonsh](https://twitter.com/imonsh)\n",
        "* Instagram: [fherz8a](https://www.instagram.com/fherz8a/)"
      ]
    }
  ],
  "metadata": {
    "interpreter": {
      "hash": "b8bdd4e700647ba2b08c59e5df8b7da1dcf50a218bcd4c1bcd9b3dc92e8788e5"
    },
    "kernelspec": {
      "display_name": "Python 3.9.1 64-bit",
      "name": "python3"
    },
    "language_info": {
      "codemirror_mode": {
        "name": "ipython",
        "version": 3
      },
      "file_extension": ".py",
      "mimetype": "text/x-python",
      "name": "python",
      "nbconvert_exporter": "python",
      "pygments_lexer": "ipython3",
      "version": "3.9.5"
    },
    "nteract": {
      "version": "nteract-front-end@1.0.0"
    },
    "colab": {
      "name": "Módulo6Katas.ipynb",
      "provenance": []
    }
  },
  "nbformat": 4,
  "nbformat_minor": 0
}