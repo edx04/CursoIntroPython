{
  "cells": [
    {
      "cell_type": "markdown",
      "metadata": {
        "id": "QsOxUDMms7D7"
      },
      "source": [
        "# Ejercicio: Uso de funciones en Python"
      ]
    },
    {
      "cell_type": "markdown",
      "metadata": {
        "id": "SkLRM-_is7EA"
      },
      "source": [
        "### Ejercicio 1: Trabajar con argumentos en funciones\n",
        "\n",
        "Los argumentos requeridos en las funciones se utilizan cuando las funciones necesitan que esos argumentos funcionen correctamente. En este ejercicio, construirás un informe de combustible que requiere información de varias ubicaciones de combustible en todo el cohete.\n",
        "\n"
      ]
    },
    {
      "cell_type": "markdown",
      "metadata": {
        "id": "RFX6makLs7EC"
      },
      "source": [
        "> **TIP**\n",
        "> Dedica unos minutos para tratar de encontrar una solución. Luego desplázate hacia abajo hasta la parte inferior para ver si has logrado compilar el programa de acuerdo con las especificaciones\n",
        "\n",
        "Comienza por crear una función que necesite tres lecturas de combustible y devuelva un informe:"
      ]
    },
    {
      "cell_type": "code",
      "execution_count": 3,
      "metadata": {
        "id": "9plFZbn8s7EF"
      },
      "outputs": [],
      "source": [
        "# Función para leer 3 tanques de combustible y muestre el promedio\n",
        "def informe(lec1, lec2, lec3):\n",
        "  total = lec1 +lec2 + lec3\n",
        "  avg = total / 3\n",
        "  return f\"\"\"Informe:\n",
        "    lectura 1: {lec1}%\n",
        "    lectura 2: {lec2}%\n",
        "    lectura 3: {lec2}%\n",
        "    promedio: {avg}% \n",
        "    \"\"\"\n",
        "   "
      ]
    },
    {
      "cell_type": "markdown",
      "metadata": {
        "id": "Omw3qkC2s7EI"
      },
      "source": [
        "Ahora que hemos definido la función de informes, vamos a comprobarlo. Para esta misión, los tanques no están llenos:"
      ]
    },
    {
      "cell_type": "code",
      "execution_count": 5,
      "metadata": {
        "id": "8H4nYYFps7EJ",
        "colab": {
          "base_uri": "https://localhost:8080/"
        },
        "outputId": "6e5693d3-e4ef-4967-de34-19261fff57c1"
      },
      "outputs": [
        {
          "output_type": "stream",
          "name": "stdout",
          "text": [
            "Informe:\n",
            "    lectura 1: 65%\n",
            "    lectura 2: 82%\n",
            "    lectura 3: 82%\n",
            "    promedio: 73.33333333333333% \n",
            "    \n"
          ]
        }
      ],
      "source": [
        "\n",
        "# Llamamos a la función que genera el reporte print(funcion(tanque1, tanque2, tanque3))\n",
        "print(informe(65, 82, 73))"
      ]
    },
    {
      "cell_type": "markdown",
      "metadata": {
        "id": "ojhkqHNJs7EL"
      },
      "source": [
        "En lugar de simplemente crear el informe, la función también está calculando el promedio. Mejora la legibilidad extrayendo el cálculo promedio de la función en una nueva función para que el promedio se pueda hacer de forma independiente:"
      ]
    },
    {
      "cell_type": "code",
      "execution_count": 6,
      "metadata": {
        "id": "eZHhTKQss7EM"
      },
      "outputs": [],
      "source": [
        "# Función promedio \n",
        "def promedio(valores):\n",
        "    return sum(valores) / len(valores)\n"
      ]
    },
    {
      "cell_type": "markdown",
      "metadata": {
        "id": "qjnh-Ntls7EN"
      },
      "source": [
        "Ahora actualiza la función de informes para llamando a la nueva función del promedio:\n"
      ]
    },
    {
      "cell_type": "code",
      "execution_count": 8,
      "metadata": {
        "id": "uXQR7jQBs7EP",
        "colab": {
          "base_uri": "https://localhost:8080/"
        },
        "outputId": "f1d6028e-af1e-4ef0-8d9f-26f2f495a231"
      },
      "outputs": [
        {
          "output_type": "stream",
          "name": "stdout",
          "text": [
            "Informe:\n",
            "    lectura 1: 65%\n",
            "    lectura 2: 82%\n",
            "    lectura 3: 82%\n",
            "    promedio: 73.33333333333333% \n",
            "    \n"
          ]
        }
      ],
      "source": [
        "# Actualiza la función\n",
        "def informe(lec1, lec2, lec3):\n",
        "  avg = promedio([lec1, lec2, lec3])\n",
        "  return f\"\"\"Informe:\n",
        "    lectura 1: {lec1}%\n",
        "    lectura 2: {lec2}%\n",
        "    lectura 3: {lec2}%\n",
        "    promedio: {avg}% \n",
        "    \"\"\"\n",
        "print(informe(65, 82, 73))"
      ]
    },
    {
      "cell_type": "markdown",
      "metadata": {
        "id": "Dx0U3hBSs7EQ"
      },
      "source": [
        "> Recuerda: Lo importante es intentarlo, puedes auxiliarte de internet, libros, etc. El objetivo de una kata es la comprobación de la comprensión de la lección y su aplicación inmediata a la resolución de problemas. Go for it!"
      ]
    },
    {
      "cell_type": "markdown",
      "metadata": {
        "id": "tzBRXDr_s7ER"
      },
      "source": [
        "## Ejercicio 2: Trabajo con argumentos de palabra clave"
      ]
    },
    {
      "cell_type": "markdown",
      "metadata": {
        "id": "Z9KdXdvDs7ER"
      },
      "source": [
        "### Ejercicio : Trabajar con argumentos de palabras clave en funciones\n",
        "En este ejercicio, construirás un informe de cohete que requiere varias piezas de información, como el tiempo hasta el destino, el combustible a la izquierda y el nombre del destino. Comienza por crear una función que creará un informe preciso de la misión:"
      ]
    },
    {
      "cell_type": "code",
      "execution_count": 13,
      "metadata": {
        "id": "0zsV9PGos7ES",
        "colab": {
          "base_uri": "https://localhost:8080/"
        },
        "outputId": "bcb7f289-3413-4228-f01e-1192c5cb40f7"
      },
      "outputs": [
        {
          "output_type": "stream",
          "name": "stdout",
          "text": [
            "\n",
            "    Destino Mars\n",
            "    Tiempo total de vuelo: 55 minutos\n",
            "    COmbustible total: 110 \n",
            "    \n"
          ]
        }
      ],
      "source": [
        "# Función con un informe preciso de la misión. Considera hora de prelanzamiento, tiempo de vuelo, destino, tanque externo y tanque interno\n",
        "def reporte(prelanzamiento, tiempo_vuelo, destino, tanque_externo, tanque_interno):\n",
        "    return f\"\"\"\n",
        "    Destino {destino}\n",
        "    Tiempo total de vuelo: {prelanzamiento + tiempo_vuelo} minutos\n",
        "    COmbustible total: {tanque_externo + tanque_interno} \n",
        "    \"\"\"\n",
        "\n",
        "print(reporte(5, 50, \"Mars\", 45, 65))"
      ]
    },
    {
      "cell_type": "markdown",
      "metadata": {
        "id": "oUW_0TB0s7ES"
      },
      "source": [
        "La función es problemática porque no se puede adaptar para minutos adicionales o tanques adicionales de combustible. Hazlo más flexible permitiendo cualquier número de pasos basados en el tiempo y cualquier número de tanques. En lugar de usar `*args` y `**kwargs`, aprovecha el hecho de que puedes usar cualquier nombre que desees. Asegurate que la función sea más legible mediante el uso de nombres de variables que están asociados con las entradas, como `*minutes` y `**fuel_reservoirs`:"
      ]
    },
    {
      "cell_type": "code",
      "execution_count": 15,
      "metadata": {
        "id": "eSgQ1G1ls7EU",
        "colab": {
          "base_uri": "https://localhost:8080/"
        },
        "outputId": "69a162f7-7895-44db-99cd-61e7f74099fe"
      },
      "outputs": [
        {
          "output_type": "stream",
          "name": "stdout",
          "text": [
            "\n",
            "    Destino Mars\n",
            "    Tiempo total de vuelo: 106 minutos\n",
            "    COmbustible total: 110 \n",
            "    \n"
          ]
        }
      ],
      "source": [
        "# Escribe tu nueva función de reporte considerando lo anterior\n",
        "\n",
        "def reporte(destino, *minutes, **fuel_reservoirs):\n",
        "    return f\"\"\"\n",
        "    Destino {destino}\n",
        "    Tiempo total de vuelo: {sum(minutes)} minutos\n",
        "    COmbustible total: {sum(fuel_reservoirs.values())} \n",
        "    \"\"\"\n",
        "\n",
        "print(reporte(\"Mars\", 5, 50, 51,tanque_externo=45, tanque_interno=65))"
      ]
    },
    {
      "cell_type": "markdown",
      "metadata": {
        "id": "sqhNM_1Ys7EX"
      },
      "source": [
        "Debido a que el combustible que queda en los tanques es específico de cada tanque, actualiza la función para usar el nombre de cada tanque en el informe:"
      ]
    },
    {
      "cell_type": "code",
      "execution_count": 16,
      "metadata": {
        "id": "uDAGaLkJs7EY",
        "colab": {
          "base_uri": "https://localhost:8080/"
        },
        "outputId": "8ecda7d4-7eb4-47da-cc82-fc2af26b0b7d"
      },
      "outputs": [
        {
          "output_type": "stream",
          "name": "stdout",
          "text": [
            "\n",
            "    Destino Mars\n",
            "    Tiempo total de vuelo: 106 minutos\n",
            "    COmbustible total: 110 \n",
            "    tanque_externo : 45 galones \n",
            "tanque_interno : 65 galones \n",
            "\n"
          ]
        }
      ],
      "source": [
        "# Escribe tu nueva función\n",
        "def reporte(destino, *minutes, **fuel_reservoirs):\n",
        "    reporte = f\"\"\"\n",
        "    Destino {destino}\n",
        "    Tiempo total de vuelo: {sum(minutes)} minutos\n",
        "    Combustible total: {sum(fuel_reservoirs.values())} \n",
        "    \"\"\"\n",
        "    for nombre, cantidad in fuel_reservoirs.items():\n",
        "        reporte += f\"{nombre} : {cantidad} galones \\n\"\n",
        "    return reporte\n",
        "\n",
        "print(reporte(\"Mars\", 5, 50, 51,tanque_externo=45, tanque_interno=65))\n",
        "\n",
        "\n"
      ]
    },
    {
      "cell_type": "markdown",
      "metadata": {
        "id": "D5ZFCEPos7Ea"
      },
      "source": [
        "## Soluciones"
      ]
    },
    {
      "cell_type": "markdown",
      "metadata": {
        "id": "1NsZRjNPs7Ea"
      },
      "source": [
        "## Ejercicio 1"
      ]
    },
    {
      "cell_type": "code",
      "execution_count": null,
      "metadata": {
        "id": "bWRp0kxXs7Eb"
      },
      "outputs": [],
      "source": [
        "# Función para leer 3 tanques de combustible y muestre el promedio\n",
        "\n",
        "def generate_report(main_tank, external_tank, hydrogen_tank):\n",
        "    total_average = (main_tank + external_tank + hydrogen_tank) / 3\n",
        "    return f\"\"\"Fuel Report:\n",
        "    Total Average: {total_average}%\n",
        "    Main tank: {main_tank}%\n",
        "    External tank: {external_tank}%\n",
        "    Hydrogen tank: {hydrogen_tank}% \n",
        "    \"\"\"\n"
      ]
    },
    {
      "cell_type": "code",
      "execution_count": null,
      "metadata": {
        "id": "1hPkTtsUs7Ec"
      },
      "outputs": [],
      "source": [
        "# Llamamos a la función que genera el reporte print(funcion(tanque1, tanque2, tanque3))\n",
        "print(generate_report(80, 70, 85))"
      ]
    },
    {
      "cell_type": "code",
      "execution_count": null,
      "metadata": {
        "id": "gNkNxhuPs7Ed"
      },
      "outputs": [],
      "source": [
        "# Función promedio \n",
        "def average(values):\n",
        "    total = sum(values)\n",
        "    number_of_items = len(values)\n",
        "    return total / number_of_items\n",
        "\n",
        "# Test the averaging function with a list of integers:\n",
        "average([80, 85, 81]) "
      ]
    },
    {
      "cell_type": "code",
      "execution_count": null,
      "metadata": {
        "id": "aK8FUeiVs7Ee"
      },
      "outputs": [],
      "source": [
        "# Actualiza la función\n",
        "def generate_report(main_tank, external_tank, hydrogen_tank):\n",
        "    return f\"\"\"Fuel Report:\n",
        "    Total Average: {average([main_tank, external_tank, hydrogen_tank])}%\n",
        "    Main tank: {main_tank}%\n",
        "    External tank: {external_tank}%\n",
        "    Hydrogen tank: {hydrogen_tank}% \n",
        "    \"\"\"\n",
        "\n",
        "# Call the updated function again with different values\n",
        "print(generate_report(88, 76, 70))"
      ]
    },
    {
      "cell_type": "markdown",
      "metadata": {
        "id": "PlXF89Xxs7Ee"
      },
      "source": [
        "### Ejercicio 2:"
      ]
    },
    {
      "cell_type": "code",
      "execution_count": null,
      "metadata": {
        "id": "1FkP1iFFs7Eg"
      },
      "outputs": [],
      "source": [
        "# Función con un informe preciso de la misión. Considera hora de prelanzamiento, tiempo de vuelo, destino, tanque externo y tanque interno\n",
        "\n",
        "def mission_report(pre_launch_time, flight_time, destination, external_tank, main_tank):\n",
        "    return f\"\"\"\n",
        "    Mission to {destination}\n",
        "    Total travel time: {pre_launch_time + flight_time} minutes\n",
        "    Total fuel left: {external_tank + main_tank} gallons\n",
        "    \"\"\"\n",
        "\n",
        "print(mission_report(14, 51, \"Moon\", 200000, 300000))"
      ]
    },
    {
      "cell_type": "code",
      "execution_count": null,
      "metadata": {
        "id": "XfbdslkPs7Eg"
      },
      "outputs": [],
      "source": [
        "# Escribe tu nueva función de reporte considerando lo anterior\n",
        "\n",
        "def mission_report(destination, *minutes, **fuel_reservoirs):\n",
        "    return f\"\"\"\n",
        "    Mission to {destination}\n",
        "    Total travel time: {sum(minutes)} minutes\n",
        "    Total fuel left: {sum(fuel_reservoirs.values())}\n",
        "    \"\"\"\n",
        "\n",
        "print(mission_report(\"Moon\", 10, 15, 51, main=300000, external=200000))"
      ]
    },
    {
      "cell_type": "code",
      "execution_count": null,
      "metadata": {
        "id": "3j0O12xVs7Eh"
      },
      "outputs": [],
      "source": [
        "# Escribe tu nueva función\n",
        "\n",
        "def mission_report(destination, *minutes, **fuel_reservoirs):\n",
        "    main_report = f\"\"\"\n",
        "    Mission to {destination}\n",
        "    Total travel time: {sum(minutes)} minutes\n",
        "    Total fuel left: {sum(fuel_reservoirs.values())}\n",
        "    \"\"\"\n",
        "    for tank_name, gallons in fuel_reservoirs.items():\n",
        "        main_report += f\"{tank_name} tank --> {gallons} gallons left\\n\"\n",
        "    return main_report\n",
        "\n",
        "print(mission_report(\"Moon\", 8, 11, 55, main=300000, external=200000))"
      ]
    },
    {
      "cell_type": "markdown",
      "metadata": {
        "id": "ztsiOpE-s7Eh"
      },
      "source": [
        "---\n",
        "\n",
        "Curso Propedútico de Python para Launch X - Innovacción Virtual.\n",
        "\n",
        "Material desarrollado con base en los contenidos de MSLearn y la metáfora de LaunchX, traducción e implementación por: Fernanda Ochoa - Learning Producer de LaunchX.\n",
        "\n",
        "Redes:\n",
        "* GitHub: [FernandaOchoa](https://github.com/FernandaOchoa)\n",
        "* Twitter: [@imonsh](https://twitter.com/imonsh)\n",
        "* Instagram: [fherz8a](https://www.instagram.com/fherz8a/)"
      ]
    }
  ],
  "metadata": {
    "interpreter": {
      "hash": "205095b8b86ea82a021a8fc2ffba2b3bc9f8d0be25999901963b225939f75778"
    },
    "kernelspec": {
      "display_name": "Python 3.8.10 64-bit ('tmp': conda)",
      "name": "python3"
    },
    "language_info": {
      "codemirror_mode": {
        "name": "ipython",
        "version": 3
      },
      "file_extension": ".py",
      "mimetype": "text/x-python",
      "name": "python",
      "nbconvert_exporter": "python",
      "pygments_lexer": "ipython3",
      "version": "3.8.10"
    },
    "nteract": {
      "version": "nteract-front-end@1.0.0"
    },
    "orig_nbformat": 4,
    "colab": {
      "name": "Módulo9Katas.ipynb",
      "provenance": []
    }
  },
  "nbformat": 4,
  "nbformat_minor": 0
}